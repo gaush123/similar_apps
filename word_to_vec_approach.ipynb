{
 "cells": [
  {
   "cell_type": "markdown",
   "metadata": {},
   "source": [
    "# This approach uses Word2Vec emedding to vectorize the description #\n"
   ]
  },
  {
   "cell_type": "code",
   "execution_count": 1,
   "metadata": {},
   "outputs": [
    {
     "name": "stdout",
     "output_type": "stream",
     "text": [
      "<gensim.models.keyedvectors.Word2VecKeyedVectors object at 0x103f9e278>\n"
     ]
    }
   ],
   "source": [
    "from gensim.models.keyedvectors import KeyedVectors\n",
    "model_path = './GoogleNews-vectors-negative300.bin' #loading Word2Vec trained on Google News \n",
    "w2v_model = KeyedVectors.load_word2vec_format(model_path, binary=True)\n",
    "print(w2v_model)"
   ]
  },
  {
   "cell_type": "code",
   "execution_count": 2,
   "metadata": {},
   "outputs": [
    {
     "name": "stdout",
     "output_type": "stream",
     "text": [
      "<gensim.models.keyedvectors.Word2VecKeyedVectors object at 0x103f9e278>\n",
      "['i', 'me', 'my', 'myself', 'we', 'our', 'ours', 'ourselves', 'you', 'your', 'yours', 'yourself', 'yourselves', 'he', 'him', 'his', 'himself', 'she', 'her', 'hers', 'herself', 'it', 'its', 'itself', 'they', 'them', 'their', 'theirs', 'themselves', 'what', 'which', 'who', 'whom', 'this', 'that', 'these', 'those', 'am', 'is', 'are', 'was', 'were', 'be', 'been', 'being', 'have', 'has', 'had', 'having', 'do', 'does', 'did', 'doing', 'a', 'an', 'the', 'and', 'but', 'if', 'or', 'because', 'as', 'until', 'while', 'of', 'at', 'by', 'for', 'with', 'about', 'against', 'between', 'into', 'through', 'during', 'before', 'after', 'above', 'below', 'to', 'from', 'up', 'down', 'in', 'out', 'on', 'off', 'over', 'under', 'again', 'further', 'then', 'once', 'here', 'there', 'when', 'where', 'why', 'how', 'all', 'any', 'both', 'each', 'few', 'more', 'most', 'other', 'some', 'such', 'no', 'nor', 'not', 'only', 'own', 'same', 'so', 'than', 'too', 'very', 's', 't', 'can', 'will', 'just', 'don', 'should', 'now', 'd', 'll', 'm', 'o', 're', 've', 'y', 'ain', 'aren', 'couldn', 'didn', 'doesn', 'hadn', 'hasn', 'haven', 'isn', 'ma', 'mightn', 'mustn', 'needn', 'shan', 'shouldn', 'wasn', 'weren', 'won', 'wouldn']\n"
     ]
    }
   ],
   "source": [
    "from nltk.corpus import stopwords\n",
    "sw = stopwords.words(\"english\")\n",
    "print(sw)"
   ]
  },
  {
   "cell_type": "code",
   "execution_count": 17,
   "metadata": {},
   "outputs": [
    {
     "name": "stdout",
     "output_type": "stream",
     "text": [
      "Collection(Database(MongoClient(host=['localhost:27017'], document_class=dict, tz_aware=False, connect=True), 'apps'), 'app_name')\n"
     ]
    },
    {
     "data": {
      "text/html": [
       "<div>\n",
       "<style scoped>\n",
       "    .dataframe tbody tr th:only-of-type {\n",
       "        vertical-align: middle;\n",
       "    }\n",
       "\n",
       "    .dataframe tbody tr th {\n",
       "        vertical-align: top;\n",
       "    }\n",
       "\n",
       "    .dataframe thead th {\n",
       "        text-align: right;\n",
       "    }\n",
       "</style>\n",
       "<table border=\"1\" class=\"dataframe\">\n",
       "  <thead>\n",
       "    <tr style=\"text-align: right;\">\n",
       "      <th></th>\n",
       "      <th>app_name</th>\n",
       "      <th>description</th>\n",
       "      <th>category</th>\n",
       "      <th>Length</th>\n",
       "    </tr>\n",
       "  </thead>\n",
       "  <tbody>\n",
       "    <tr>\n",
       "      <td>0</td>\n",
       "      <td>Coloring book moana</td>\n",
       "      <td>Moana Coloring book pages is an educational co...</td>\n",
       "      <td>Arcade</td>\n",
       "      <td>1897</td>\n",
       "    </tr>\n",
       "    <tr>\n",
       "      <td>1</td>\n",
       "      <td>U Launcher Lite – FREE Live Cool Themes, Hide ...</td>\n",
       "      <td>💘Try the best launcher for Android - U Launche...</td>\n",
       "      <td>Art &amp; Design</td>\n",
       "      <td>2422</td>\n",
       "    </tr>\n",
       "    <tr>\n",
       "      <td>2</td>\n",
       "      <td>Sketch - Draw &amp; Paint</td>\n",
       "      <td>*** The online parts of the Sketch service wil...</td>\n",
       "      <td>Art &amp; Design</td>\n",
       "      <td>1961</td>\n",
       "    </tr>\n",
       "    <tr>\n",
       "      <td>3</td>\n",
       "      <td>Pixel Draw - Number Art Coloring Book</td>\n",
       "      <td>Enjoy number coloring and creating anti-stress...</td>\n",
       "      <td>Art &amp; Design</td>\n",
       "      <td>1433</td>\n",
       "    </tr>\n",
       "    <tr>\n",
       "      <td>4</td>\n",
       "      <td>Paper flowers instructions</td>\n",
       "      <td>Papercraft flowers are crafted using simple ma...</td>\n",
       "      <td>Art &amp; Design</td>\n",
       "      <td>3076</td>\n",
       "    </tr>\n",
       "    <tr>\n",
       "      <td>...</td>\n",
       "      <td>...</td>\n",
       "      <td>...</td>\n",
       "      <td>...</td>\n",
       "      <td>...</td>\n",
       "    </tr>\n",
       "    <tr>\n",
       "      <td>974</td>\n",
       "      <td>USAA Mobile</td>\n",
       "      <td>The USAA Mobile app gives you convenient and s...</td>\n",
       "      <td>Finance</td>\n",
       "      <td>1098</td>\n",
       "    </tr>\n",
       "    <tr>\n",
       "      <td>975</td>\n",
       "      <td>Associated Credit Union Mobile</td>\n",
       "      <td>Associated Credit Union’s Mobile Banking App i...</td>\n",
       "      <td>Finance</td>\n",
       "      <td>596</td>\n",
       "    </tr>\n",
       "    <tr>\n",
       "      <td>976</td>\n",
       "      <td>Bank of America Mobile Banking</td>\n",
       "      <td>Bank conveniently and securely with the Bank o...</td>\n",
       "      <td>Finance</td>\n",
       "      <td>3093</td>\n",
       "    </tr>\n",
       "    <tr>\n",
       "      <td>977</td>\n",
       "      <td>USE Credit Union Mobile</td>\n",
       "      <td>USE Credit Union Android App \\nManage your acc...</td>\n",
       "      <td>Finance</td>\n",
       "      <td>700</td>\n",
       "    </tr>\n",
       "    <tr>\n",
       "      <td>978</td>\n",
       "      <td>Discover Mobile</td>\n",
       "      <td>Discover card app is ranked highest in Custome...</td>\n",
       "      <td>Finance</td>\n",
       "      <td>2390</td>\n",
       "    </tr>\n",
       "  </tbody>\n",
       "</table>\n",
       "<p>979 rows × 4 columns</p>\n",
       "</div>"
      ],
      "text/plain": [
       "                                              app_name  \\\n",
       "0                                  Coloring book moana   \n",
       "1    U Launcher Lite – FREE Live Cool Themes, Hide ...   \n",
       "2                                Sketch - Draw & Paint   \n",
       "3                Pixel Draw - Number Art Coloring Book   \n",
       "4                           Paper flowers instructions   \n",
       "..                                                 ...   \n",
       "974                                        USAA Mobile   \n",
       "975                     Associated Credit Union Mobile   \n",
       "976                     Bank of America Mobile Banking   \n",
       "977                            USE Credit Union Mobile   \n",
       "978                                    Discover Mobile   \n",
       "\n",
       "                                           description      category  Length  \n",
       "0    Moana Coloring book pages is an educational co...        Arcade    1897  \n",
       "1    💘Try the best launcher for Android - U Launche...  Art & Design    2422  \n",
       "2    *** The online parts of the Sketch service wil...  Art & Design    1961  \n",
       "3    Enjoy number coloring and creating anti-stress...  Art & Design    1433  \n",
       "4    Papercraft flowers are crafted using simple ma...  Art & Design    3076  \n",
       "..                                                 ...           ...     ...  \n",
       "974  The USAA Mobile app gives you convenient and s...       Finance    1098  \n",
       "975  Associated Credit Union’s Mobile Banking App i...       Finance     596  \n",
       "976  Bank conveniently and securely with the Bank o...       Finance    3093  \n",
       "977  USE Credit Union Android App \\nManage your acc...       Finance     700  \n",
       "978  Discover card app is ranked highest in Custome...       Finance    2390  \n",
       "\n",
       "[979 rows x 4 columns]"
      ]
     },
     "execution_count": 17,
     "metadata": {},
     "output_type": "execute_result"
    }
   ],
   "source": [
    "### Fetching data from mongo ###\n",
    "from pymongo import MongoClient\n",
    "import numpy as np\n",
    "import pandas as pd\n",
    "\n",
    "client = MongoClient('localhost', 27017)\n",
    "db = client.apps\n",
    "collection = db.app_name\n",
    "print(collection)\n",
    "\n",
    "\n",
    "df_apps = pd.DataFrame(list(collection.find({},{'_id':0, 'description': 1, 'category': 1, 'app_name': 1})))\n",
    "df_apps[\"Length\"]= df_apps[\"description\"].str.len() # passing values through str.len() \n",
    "df_apps"
   ]
  },
  {
   "cell_type": "code",
   "execution_count": 23,
   "metadata": {},
   "outputs": [
    {
     "data": {
      "text/plain": [
       "<matplotlib.axes._subplots.AxesSubplot at 0x210e686d8>"
      ]
     },
     "execution_count": 23,
     "metadata": {},
     "output_type": "execute_result"
    },
    {
     "data": {
      "image/png": "[encoded data removed]",
      "text/plain": [
       "<Figure size 432x288 with 1 Axes>"
      ]
     },
     "metadata": {
      "needs_background": "light"
     },
     "output_type": "display_data"
    }
   ],
   "source": [
    "ax = df_apps['Length'].plot.hist(bins=5, alpha=0.5)\n",
    "ax"
   ]
  },
  {
   "cell_type": "code",
   "execution_count": 6,
   "metadata": {},
   "outputs": [],
   "source": [
    "test_df = pd.DataFrame(list(collection.find({'app_name': 'Flipkart'},{'_id':0, 'description': 1, 'category': 1, 'app_name': 1})))"
   ]
  },
  {
   "cell_type": "code",
   "execution_count": 31,
   "metadata": {},
   "outputs": [],
   "source": [
    "def vectorize(description):\n",
    "        \"\"\"Identify the vector values for each word in the given document\"\"\"\n",
    "        description = description.lower()\n",
    "        words = [w for w in description.split(\" \") if w not in sw]\n",
    "        word_vecs = []\n",
    "        for word in words:\n",
    "            try:\n",
    "                vec = w2v_model[word]\n",
    "                word_vecs.append(vec)\n",
    "            except KeyError:\n",
    "                # Ignore, if the word doesn't exist in the vocabulary\n",
    "                pass\n",
    "\n",
    "        # Assuming that document vector is the mean of all the word vectors\n",
    "        # PS: There are other & better ways to do it.\n",
    "        vector = np.mean(word_vecs, axis=0)\n",
    "        return vector\n",
    "    \n",
    "def _cosine_sim(vecA, vecB):\n",
    "        \"\"\"Find the cosine similarity distance between two vectors.\"\"\"\n",
    "        csim = np.dot(vecA, vecB) / (np.linalg.norm(vecA) * np.linalg.norm(vecB))\n",
    "        if np.isnan(np.sum(csim)):\n",
    "            return 0\n",
    "        return csim\n",
    "    \n",
    "def calculate_similarity(source_df, target_df, threshold=0, category = True):\n",
    "        \"\"\"Calculates & returns similarity scores between given source document & all\n",
    "        the target documents.\"\"\"\n",
    "        source_name = source_df['app_name'].values[0]\n",
    "        print(\"Source_name >> \",source_name)\n",
    "        source_doc = str(source_df['description'].values[0])\n",
    "        source_cat = str(source_df['category'].values[0])\n",
    "        print(\"Source_category >> \", source_cat)\n",
    "        source_vec = vectorize(source_doc)\n",
    "        results = []\n",
    "        if category == True:\n",
    "            target_df = target_df[target_df['category'] == source_cat]\n",
    "        for index, row in target_df.iterrows():\n",
    "            target_vec = vectorize(row['description'])\n",
    "            sim_score = _cosine_sim(source_vec, target_vec)\n",
    "            if sim_score > threshold:\n",
    "                results.append({\n",
    "                    'score' : sim_score,\n",
    "                    'name' : row['app_name']\n",
    "                })\n",
    "            # Sort results by score in desc order\n",
    "            results.sort(key=lambda k : k['score'] , reverse=True)\n",
    "\n",
    "        return results\n"
   ]
  },
  {
   "cell_type": "code",
   "execution_count": 34,
   "metadata": {},
   "outputs": [
    {
     "name": "stdout",
     "output_type": "stream",
     "text": [
      "Source_name >>  Flipkart\n",
      "Source_category >>  Shopping\n"
     ]
    },
    {
     "data": {
      "text/plain": [
       "[{'score': 0.99999994, 'name': 'Flipkart'},\n",
       " {'score': 0.9365793, 'name': 'HomeShop18'},\n",
       " {'score': 0.9348917, 'name': 'Snapdeal'},\n",
       " {'score': 0.9258636, 'name': 'Amazon'},\n",
       " {'score': 0.925186, 'name': 'DHgate Mobile online wholesale'},\n",
       " {'score': 0.925186, 'name': 'DHgate Mobile'},\n",
       " {'score': 0.8775137, 'name': 'ASOS'},\n",
       " {'score': 0.8734439, 'name': 'Forever 21'},\n",
       " {'score': 0.8732123, 'name': 'Shopping at DealExtreme'},\n",
       " {'score': 0.8711715, 'name': 'eBay'}]"
      ]
     },
     "execution_count": 34,
     "metadata": {},
     "output_type": "execute_result"
    }
   ],
   "source": [
    "## Getting results when pre-defined categories are taken into consideration ##\n",
    "sim_scores = calculate_similarity(test_df, df_apps, category = True)\n",
    "sim_scores[:10]"
   ]
  },
  {
   "cell_type": "code",
   "execution_count": 33,
   "metadata": {},
   "outputs": [
    {
     "name": "stdout",
     "output_type": "stream",
     "text": [
      "Source_name >>  Flipkart\n",
      "Source_category >>  Shopping\n"
     ]
    },
    {
     "data": {
      "text/plain": [
       "[{'score': 0.99999994, 'name': 'Flipkart'},\n",
       " {'score': 0.9365793, 'name': 'HomeShop18'},\n",
       " {'score': 0.9348917, 'name': 'Snapdeal'},\n",
       " {'score': 0.9258636, 'name': 'Amazon'},\n",
       " {'score': 0.925186, 'name': 'DHgate Mobile online wholesale'},\n",
       " {'score': 0.925186, 'name': 'DHgate Mobile'},\n",
       " {'score': 0.9018686, 'name': 'BBVA Compass Banking'},\n",
       " {'score': 0.897361, 'name': 'sABN'},\n",
       " {'score': 0.8913565, 'name': 'My Vodacom SA'},\n",
       " {'score': 0.88756067, 'name': 'Ecobank Mobile Banking'}]"
      ]
     },
     "execution_count": 33,
     "metadata": {},
     "output_type": "execute_result"
    }
   ],
   "source": [
    "## Getting results when pre-defined categories are NOT taken into consideration ##\n",
    "sim_scores = calculate_similarity(test_df, df_apps, category = False)\n",
    "sim_scores[:10]"
   ]
  },
  {
   "cell_type": "code",
   "execution_count": null,
   "metadata": {
    "collapsed": true
   },
   "outputs": [],
   "source": []
  }
 ],
 "metadata": {
  "kernelspec": {
   "display_name": "similar_apps",
   "language": "python",
   "name": "similarapps"
  },
  "language_info": {
   "codemirror_mode": {
    "name": "ipython",
    "version": 3
   },
   "file_extension": ".py",
   "mimetype": "text/x-python",
   "name": "python",
   "nbconvert_exporter": "python",
   "pygments_lexer": "ipython3",
   "version": "3.6.9"
  }
 },
 "nbformat": 4,
 "nbformat_minor": 2
}
